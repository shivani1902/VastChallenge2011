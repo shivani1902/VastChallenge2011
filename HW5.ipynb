{
 "cells": [
  {
   "cell_type": "markdown",
   "metadata": {},
   "source": [
    "Group - Shivani Gupta, Divyesh Harit"
   ]
  },
  {
   "cell_type": "markdown",
   "metadata": {},
   "source": [
    "# Vast Challenge - 2011, Mini Challenge 1 - Characterization of an Epidemic Spread\n",
    "<br>\n",
    "Goal - A major epidemic has started in the city of Vastopolis. The task is to analyze the data and determine how the epidemic is being spread and whether or not it is contained. The origin of the epidemic must also be identified.\n",
    "Dataset - Microblogging messages with geolocations and a map"
   ]
  },
  {
   "cell_type": "markdown",
   "metadata": {},
   "source": [
    "## Algorithms\n",
    "\n",
    "Get word counts, TF-IDF features for tweets - Will help in clustering alogrithms and also in visualization\n",
    "<br>\n",
    "**Clustering** - <br>\n",
    "    **Based on Location** - To see location where people are more active or totally inactive (if active then we can see what kind of message were coming in, whether epidemic is being spread or is contained, how are people reacting)\n",
    "<br>\n",
    "    **Based on Date/Time** - Will give a sense or a trend of how messages were changing with time (it could be either change in count or change in the context)<br>\n",
    "    **Based on Messages** - Will help in grouping messages<br><br>\n",
    "These 3 clustering results should give a good picture of the epidemic spread. We should be able to answer questions like how it started, how it is spreading, all affected aread and whether it is contained or not. <br>\n",
    "<br>\n",
    "**Classification** -<br>\n",
    "    Messages - Classifying messages into related to epidemic/disease and non-related will help in visualizing the results better. Infact, we can even run the clustering algorithms on the messages related to disease/epidemic. "
   ]
  },
  {
   "cell_type": "markdown",
   "metadata": {},
   "source": [
    "## Similar Dataset\n",
    "We decided to go with US twitter dataset present here - http://www.followthehashtag.com/datasets/free-twitter-dataset-usa-200000-free-usa-tweets/\n",
    "It has 200k tweets with geolocations, date and time. We selected this set as it was a close match with our mini challenge dataset."
   ]
  },
  {
   "cell_type": "markdown",
   "metadata": {},
   "source": [
    "# Classification\n",
    "We didn't run any classification algorithm on this. Instead,we looked at the dataset and decided to select rows where tweet had the word \"#earthquake\" and decided to do clustering on that to get a pattern. "
   ]
  },
  {
   "cell_type": "code",
   "execution_count": 9,
   "metadata": {
    "collapsed": false
   },
   "outputs": [
    {
     "data": {
      "text/html": [
       "\n",
       "    <div class=\"bk-root\">\n",
       "        <a href=\"http://bokeh.pydata.org\" target=\"_blank\" class=\"bk-logo bk-logo-small bk-logo-notebook\"></a>\n",
       "        <span id=\"b7cf5e74-b15d-45e3-b695-f0dc284d1434\">Loading BokehJS ...</span>\n",
       "    </div>"
      ]
     },
     "metadata": {},
     "output_type": "display_data"
    },
    {
     "data": {
      "application/javascript": [
       "\n",
       "(function(global) {\n",
       "  function now() {\n",
       "    return new Date();\n",
       "  }\n",
       "\n",
       "  var force = true;\n",
       "\n",
       "  if (typeof (window._bokeh_onload_callbacks) === \"undefined\" || force === true) {\n",
       "    window._bokeh_onload_callbacks = [];\n",
       "    window._bokeh_is_loading = undefined;\n",
       "  }\n",
       "\n",
       "\n",
       "  \n",
       "  if (typeof (window._bokeh_timeout) === \"undefined\" || force === true) {\n",
       "    window._bokeh_timeout = Date.now() + 5000;\n",
       "    window._bokeh_failed_load = false;\n",
       "  }\n",
       "\n",
       "  var NB_LOAD_WARNING = {'data': {'text/html':\n",
       "     \"<div style='background-color: #fdd'>\\n\"+\n",
       "     \"<p>\\n\"+\n",
       "     \"BokehJS does not appear to have successfully loaded. If loading BokehJS from CDN, this \\n\"+\n",
       "     \"may be due to a slow or bad network connection. Possible fixes:\\n\"+\n",
       "     \"</p>\\n\"+\n",
       "     \"<ul>\\n\"+\n",
       "     \"<li>re-rerun `output_notebook()` to attempt to load from CDN again, or</li>\\n\"+\n",
       "     \"<li>use INLINE resources instead, as so:</li>\\n\"+\n",
       "     \"</ul>\\n\"+\n",
       "     \"<code>\\n\"+\n",
       "     \"from bokeh.resources import INLINE\\n\"+\n",
       "     \"output_notebook(resources=INLINE)\\n\"+\n",
       "     \"</code>\\n\"+\n",
       "     \"</div>\"}};\n",
       "\n",
       "  function display_loaded() {\n",
       "    if (window.Bokeh !== undefined) {\n",
       "      document.getElementById(\"b7cf5e74-b15d-45e3-b695-f0dc284d1434\").textContent = \"BokehJS successfully loaded.\";\n",
       "    } else if (Date.now() < window._bokeh_timeout) {\n",
       "      setTimeout(display_loaded, 100)\n",
       "    }\n",
       "  }\n",
       "\n",
       "  function run_callbacks() {\n",
       "    window._bokeh_onload_callbacks.forEach(function(callback) { callback() });\n",
       "    delete window._bokeh_onload_callbacks\n",
       "    console.info(\"Bokeh: all callbacks have finished\");\n",
       "  }\n",
       "\n",
       "  function load_libs(js_urls, callback) {\n",
       "    window._bokeh_onload_callbacks.push(callback);\n",
       "    if (window._bokeh_is_loading > 0) {\n",
       "      console.log(\"Bokeh: BokehJS is being loaded, scheduling callback at\", now());\n",
       "      return null;\n",
       "    }\n",
       "    if (js_urls == null || js_urls.length === 0) {\n",
       "      run_callbacks();\n",
       "      return null;\n",
       "    }\n",
       "    console.log(\"Bokeh: BokehJS not loaded, scheduling load and callback at\", now());\n",
       "    window._bokeh_is_loading = js_urls.length;\n",
       "    for (var i = 0; i < js_urls.length; i++) {\n",
       "      var url = js_urls[i];\n",
       "      var s = document.createElement('script');\n",
       "      s.src = url;\n",
       "      s.async = false;\n",
       "      s.onreadystatechange = s.onload = function() {\n",
       "        window._bokeh_is_loading--;\n",
       "        if (window._bokeh_is_loading === 0) {\n",
       "          console.log(\"Bokeh: all BokehJS libraries loaded\");\n",
       "          run_callbacks()\n",
       "        }\n",
       "      };\n",
       "      s.onerror = function() {\n",
       "        console.warn(\"failed to load library \" + url);\n",
       "      };\n",
       "      console.log(\"Bokeh: injecting script tag for BokehJS library: \", url);\n",
       "      document.getElementsByTagName(\"head\")[0].appendChild(s);\n",
       "    }\n",
       "  };var element = document.getElementById(\"b7cf5e74-b15d-45e3-b695-f0dc284d1434\");\n",
       "  if (element == null) {\n",
       "    console.log(\"Bokeh: ERROR: autoload.js configured with elementid 'b7cf5e74-b15d-45e3-b695-f0dc284d1434' but no matching script tag was found. \")\n",
       "    return false;\n",
       "  }\n",
       "\n",
       "  var js_urls = [\"https://cdn.pydata.org/bokeh/release/bokeh-0.12.4.min.js\", \"https://cdn.pydata.org/bokeh/release/bokeh-widgets-0.12.4.min.js\"];\n",
       "\n",
       "  var inline_js = [\n",
       "    function(Bokeh) {\n",
       "      Bokeh.set_log_level(\"info\");\n",
       "    },\n",
       "    \n",
       "    function(Bokeh) {\n",
       "      \n",
       "      document.getElementById(\"b7cf5e74-b15d-45e3-b695-f0dc284d1434\").textContent = \"BokehJS is loading...\";\n",
       "    },\n",
       "    function(Bokeh) {\n",
       "      console.log(\"Bokeh: injecting CSS: https://cdn.pydata.org/bokeh/release/bokeh-0.12.4.min.css\");\n",
       "      Bokeh.embed.inject_css(\"https://cdn.pydata.org/bokeh/release/bokeh-0.12.4.min.css\");\n",
       "      console.log(\"Bokeh: injecting CSS: https://cdn.pydata.org/bokeh/release/bokeh-widgets-0.12.4.min.css\");\n",
       "      Bokeh.embed.inject_css(\"https://cdn.pydata.org/bokeh/release/bokeh-widgets-0.12.4.min.css\");\n",
       "    }\n",
       "  ];\n",
       "\n",
       "  function run_inline_js() {\n",
       "    \n",
       "    if ((window.Bokeh !== undefined) || (force === true)) {\n",
       "      for (var i = 0; i < inline_js.length; i++) {\n",
       "        inline_js[i](window.Bokeh);\n",
       "      }if (force === true) {\n",
       "        display_loaded();\n",
       "      }} else if (Date.now() < window._bokeh_timeout) {\n",
       "      setTimeout(run_inline_js, 100);\n",
       "    } else if (!window._bokeh_failed_load) {\n",
       "      console.log(\"Bokeh: BokehJS failed to load within specified timeout.\");\n",
       "      window._bokeh_failed_load = true;\n",
       "    } else if (force !== true) {\n",
       "      var cell = $(document.getElementById(\"b7cf5e74-b15d-45e3-b695-f0dc284d1434\")).parents('.cell').data().cell;\n",
       "      cell.output_area.append_execute_result(NB_LOAD_WARNING)\n",
       "    }\n",
       "\n",
       "  }\n",
       "\n",
       "  if (window._bokeh_is_loading === 0) {\n",
       "    console.log(\"Bokeh: BokehJS loaded, going straight to plotting\");\n",
       "    run_inline_js();\n",
       "  } else {\n",
       "    load_libs(js_urls, function() {\n",
       "      console.log(\"Bokeh: BokehJS plotting callback run at\", now());\n",
       "      run_inline_js();\n",
       "    });\n",
       "  }\n",
       "}(this));"
      ]
     },
     "metadata": {},
     "output_type": "display_data"
    }
   ],
   "source": [
    "import pandas as pd\n",
    "import numpy as np\n",
    "import csv\n",
    "from sklearn.feature_extraction.text import TfidfVectorizer, CountVectorizer, TfidfTransformer\n",
    "from pandas import ExcelWriter\n",
    "from pandas import ExcelFile\n",
    "from sklearn import cluster\n",
    "from sklearn.decomposition import PCA\n",
    "from sklearn.pipeline import Pipeline\n",
    "import bokeh\n",
    "from bokeh.charts import Scatter\n",
    "from bokeh.io import output_notebook,output_file\n",
    "from bokeh.layouts import layout\n",
    "from bokeh.models import Label\n",
    "from bokeh.plotting import figure, show\n",
    "output_notebook()"
   ]
  },
  {
   "cell_type": "code",
   "execution_count": 23,
   "metadata": {
    "collapsed": false
   },
   "outputs": [],
   "source": [
    "# read data and select #earthquake related tweets\n",
    "df = pd.read_excel('tweets1.xlsx')\n",
    "df = df[['Tweet content','Latitude','Longitude', 'Date', 'Hour']]\n",
    "data = df.loc[df['Tweet content'].str.contains(\"#earthquake\")]"
   ]
  },
  {
   "cell_type": "code",
   "execution_count": 24,
   "metadata": {
    "collapsed": false
   },
   "outputs": [],
   "source": [
    "## word count, tf-idf features\n",
    "###it is included in clustering by tweet content, there we first get word, count and tf-idf features"
   ]
  },
  {
   "cell_type": "markdown",
   "metadata": {},
   "source": [
    "# Clustering"
   ]
  },
  {
   "cell_type": "markdown",
   "metadata": {},
   "source": [
    "## By Location"
   ]
  },
  {
   "cell_type": "code",
   "execution_count": 25,
   "metadata": {
    "collapsed": false
   },
   "outputs": [
    {
     "name": "stderr",
     "output_type": "stream",
     "text": [
      "/anaconda/lib/python2.7/site-packages/ipykernel/__main__.py:5: SettingWithCopyWarning: \n",
      "A value is trying to be set on a copy of a slice from a DataFrame.\n",
      "Try using .loc[row_indexer,col_indexer] = value instead\n",
      "\n",
      "See the caveats in the documentation: http://pandas.pydata.org/pandas-docs/stable/indexing.html#indexing-view-versus-copy\n"
     ]
    }
   ],
   "source": [
    "##Clustering by location\n",
    "k_means = cluster.KMeans(6)\n",
    "latlong = data.as_matrix(columns=['Latitude', 'Longitude'])\n",
    "k_means.fit(latlong)\n",
    "data['cluster'] = k_means.labels_\n",
    "#plot = figure(width=550, height=550, title='K-means, 8 clusters', x_axis_label = \"Grocery\", y_axis_label = \"Delicassen\")\n",
    "#plot.scatter(latlong[])"
   ]
  },
  {
   "cell_type": "code",
   "execution_count": 26,
   "metadata": {
    "collapsed": false
   },
   "outputs": [
    {
     "data": {
      "text/html": [
       "\n",
       "\n",
       "    <div class=\"bk-root\">\n",
       "        <div class=\"bk-plotdiv\" id=\"12fec076-e2fb-4096-ae05-4b785c32ac0b\"></div>\n",
       "    </div>\n",
       "<script type=\"text/javascript\">\n",
       "  \n",
       "  (function(global) {\n",
       "    function now() {\n",
       "      return new Date();\n",
       "    }\n",
       "  \n",
       "    var force = false;\n",
       "  \n",
       "    if (typeof (window._bokeh_onload_callbacks) === \"undefined\" || force === true) {\n",
       "      window._bokeh_onload_callbacks = [];\n",
       "      window._bokeh_is_loading = undefined;\n",
       "    }\n",
       "  \n",
       "  \n",
       "    \n",
       "    if (typeof (window._bokeh_timeout) === \"undefined\" || force === true) {\n",
       "      window._bokeh_timeout = Date.now() + 0;\n",
       "      window._bokeh_failed_load = false;\n",
       "    }\n",
       "  \n",
       "    var NB_LOAD_WARNING = {'data': {'text/html':\n",
       "       \"<div style='background-color: #fdd'>\\n\"+\n",
       "       \"<p>\\n\"+\n",
       "       \"BokehJS does not appear to have successfully loaded. If loading BokehJS from CDN, this \\n\"+\n",
       "       \"may be due to a slow or bad network connection. Possible fixes:\\n\"+\n",
       "       \"</p>\\n\"+\n",
       "       \"<ul>\\n\"+\n",
       "       \"<li>re-rerun `output_notebook()` to attempt to load from CDN again, or</li>\\n\"+\n",
       "       \"<li>use INLINE resources instead, as so:</li>\\n\"+\n",
       "       \"</ul>\\n\"+\n",
       "       \"<code>\\n\"+\n",
       "       \"from bokeh.resources import INLINE\\n\"+\n",
       "       \"output_notebook(resources=INLINE)\\n\"+\n",
       "       \"</code>\\n\"+\n",
       "       \"</div>\"}};\n",
       "  \n",
       "    function display_loaded() {\n",
       "      if (window.Bokeh !== undefined) {\n",
       "        document.getElementById(\"12fec076-e2fb-4096-ae05-4b785c32ac0b\").textContent = \"BokehJS successfully loaded.\";\n",
       "      } else if (Date.now() < window._bokeh_timeout) {\n",
       "        setTimeout(display_loaded, 100)\n",
       "      }\n",
       "    }\n",
       "  \n",
       "    function run_callbacks() {\n",
       "      window._bokeh_onload_callbacks.forEach(function(callback) { callback() });\n",
       "      delete window._bokeh_onload_callbacks\n",
       "      console.info(\"Bokeh: all callbacks have finished\");\n",
       "    }\n",
       "  \n",
       "    function load_libs(js_urls, callback) {\n",
       "      window._bokeh_onload_callbacks.push(callback);\n",
       "      if (window._bokeh_is_loading > 0) {\n",
       "        console.log(\"Bokeh: BokehJS is being loaded, scheduling callback at\", now());\n",
       "        return null;\n",
       "      }\n",
       "      if (js_urls == null || js_urls.length === 0) {\n",
       "        run_callbacks();\n",
       "        return null;\n",
       "      }\n",
       "      console.log(\"Bokeh: BokehJS not loaded, scheduling load and callback at\", now());\n",
       "      window._bokeh_is_loading = js_urls.length;\n",
       "      for (var i = 0; i < js_urls.length; i++) {\n",
       "        var url = js_urls[i];\n",
       "        var s = document.createElement('script');\n",
       "        s.src = url;\n",
       "        s.async = false;\n",
       "        s.onreadystatechange = s.onload = function() {\n",
       "          window._bokeh_is_loading--;\n",
       "          if (window._bokeh_is_loading === 0) {\n",
       "            console.log(\"Bokeh: all BokehJS libraries loaded\");\n",
       "            run_callbacks()\n",
       "          }\n",
       "        };\n",
       "        s.onerror = function() {\n",
       "          console.warn(\"failed to load library \" + url);\n",
       "        };\n",
       "        console.log(\"Bokeh: injecting script tag for BokehJS library: \", url);\n",
       "        document.getElementsByTagName(\"head\")[0].appendChild(s);\n",
       "      }\n",
       "    };var element = document.getElementById(\"12fec076-e2fb-4096-ae05-4b785c32ac0b\");\n",
       "    if (element == null) {\n",
       "      console.log(\"Bokeh: ERROR: autoload.js configured with elementid '12fec076-e2fb-4096-ae05-4b785c32ac0b' but no matching script tag was found. \")\n",
       "      return false;\n",
       "    }\n",
       "  \n",
       "    var js_urls = [];\n",
       "  \n",
       "    var inline_js = [\n",
       "      function(Bokeh) {\n",
       "        (function() {\n",
       "          var fn = function() {\n",
       "            var docs_json = {\"d3766bb3-c4eb-4ef8-9cdb-9d4db1f1ece7\":{\"roots\":{\"references\":[{\"attributes\":{},\"id\":\"68ce0906-31cf-48b4-b211-2fa8aee132f5\",\"type\":\"BasicTicker\"},{\"attributes\":{\"overlay\":{\"id\":\"10685eea-308a-48cc-b755-a27c4a8df8c3\",\"type\":\"BoxAnnotation\"},\"plot\":{\"id\":\"10e9f0f1-6ceb-4831-bab9-16526963309e\",\"subtype\":\"Figure\",\"type\":\"Plot\"}},\"id\":\"1674ecc4-0b13-4366-99db-d74c85c59edc\",\"type\":\"BoxZoomTool\"},{\"attributes\":{\"below\":[{\"id\":\"a73608ea-b7aa-46c6-b669-beaba80459bc\",\"type\":\"LinearAxis\"}],\"left\":[{\"id\":\"9642a7cd-e585-459f-84c2-750ecd6f4f67\",\"type\":\"LinearAxis\"}],\"plot_height\":550,\"plot_width\":550,\"renderers\":[{\"id\":\"a73608ea-b7aa-46c6-b669-beaba80459bc\",\"type\":\"LinearAxis\"},{\"id\":\"a34c99c5-5f68-4f54-86bf-568fcc8d7e7e\",\"type\":\"Grid\"},{\"id\":\"9642a7cd-e585-459f-84c2-750ecd6f4f67\",\"type\":\"LinearAxis\"},{\"id\":\"3817ae90-d369-4cb3-9af6-0bc8caaa8a82\",\"type\":\"Grid\"},{\"id\":\"10685eea-308a-48cc-b755-a27c4a8df8c3\",\"type\":\"BoxAnnotation\"},{\"id\":\"61e725b1-f80b-4feb-8c39-cbb8a74b60ff\",\"type\":\"GlyphRenderer\"}],\"title\":{\"id\":\"b7391645-59e2-45cc-8afa-d55e4106b8a8\",\"type\":\"Title\"},\"tool_events\":{\"id\":\"f1ef1ddb-e017-457e-909c-1b02ee34317e\",\"type\":\"ToolEvents\"},\"toolbar\":{\"id\":\"6cadffee-f23a-438a-ad2a-4296b899130a\",\"type\":\"Toolbar\"},\"x_range\":{\"id\":\"24231052-3677-4736-b41e-48f16c58a586\",\"type\":\"DataRange1d\"},\"y_range\":{\"id\":\"6d19745e-efda-4d35-9949-8da3dfeecc5d\",\"type\":\"DataRange1d\"}},\"id\":\"10e9f0f1-6ceb-4831-bab9-16526963309e\",\"subtype\":\"Figure\",\"type\":\"Plot\"},{\"attributes\":{\"plot\":{\"id\":\"10e9f0f1-6ceb-4831-bab9-16526963309e\",\"subtype\":\"Figure\",\"type\":\"Plot\"}},\"id\":\"81fb8a31-89e9-4fd3-b62b-9f433eddf275\",\"type\":\"WheelZoomTool\"},{\"attributes\":{\"data_source\":{\"id\":\"1aaa4c16-b809-4dc6-a05f-de0003ad8c1d\",\"type\":\"ColumnDataSource\"},\"glyph\":{\"id\":\"543717a4-81cd-4f13-9865-3a5adbf9a4af\",\"type\":\"Circle\"},\"hover_glyph\":null,\"nonselection_glyph\":{\"id\":\"49be68b6-967f-4354-9963-0931ea0e2a1d\",\"type\":\"Circle\"},\"selection_glyph\":null},\"id\":\"61e725b1-f80b-4feb-8c39-cbb8a74b60ff\",\"type\":\"GlyphRenderer\"},{\"attributes\":{\"plot\":{\"id\":\"10e9f0f1-6ceb-4831-bab9-16526963309e\",\"subtype\":\"Figure\",\"type\":\"Plot\"}},\"id\":\"f64cdc1c-2504-4957-9375-bc1e113ea45b\",\"type\":\"ResetTool\"},{\"attributes\":{},\"id\":\"f1ef1ddb-e017-457e-909c-1b02ee34317e\",\"type\":\"ToolEvents\"},{\"attributes\":{\"callback\":null},\"id\":\"6d19745e-efda-4d35-9949-8da3dfeecc5d\",\"type\":\"DataRange1d\"},{\"attributes\":{\"plot\":{\"id\":\"10e9f0f1-6ceb-4831-bab9-16526963309e\",\"subtype\":\"Figure\",\"type\":\"Plot\"},\"ticker\":{\"id\":\"68ce0906-31cf-48b4-b211-2fa8aee132f5\",\"type\":\"BasicTicker\"}},\"id\":\"a34c99c5-5f68-4f54-86bf-568fcc8d7e7e\",\"type\":\"Grid\"},{\"attributes\":{\"bottom_units\":\"screen\",\"fill_alpha\":{\"value\":0.5},\"fill_color\":{\"value\":\"lightgrey\"},\"left_units\":\"screen\",\"level\":\"overlay\",\"line_alpha\":{\"value\":1.0},\"line_color\":{\"value\":\"black\"},\"line_dash\":[4,4],\"line_width\":{\"value\":2},\"plot\":null,\"render_mode\":\"css\",\"right_units\":\"screen\",\"top_units\":\"screen\"},\"id\":\"10685eea-308a-48cc-b755-a27c4a8df8c3\",\"type\":\"BoxAnnotation\"},{\"attributes\":{\"callback\":null},\"id\":\"24231052-3677-4736-b41e-48f16c58a586\",\"type\":\"DataRange1d\"},{\"attributes\":{\"axis_label\":\"Longitude\",\"formatter\":{\"id\":\"04c14b40-47db-470b-a291-76f3bb174131\",\"type\":\"BasicTickFormatter\"},\"plot\":{\"id\":\"10e9f0f1-6ceb-4831-bab9-16526963309e\",\"subtype\":\"Figure\",\"type\":\"Plot\"},\"ticker\":{\"id\":\"9bf546b5-7640-4b04-94b4-fd0b28facf50\",\"type\":\"BasicTicker\"}},\"id\":\"9642a7cd-e585-459f-84c2-750ecd6f4f67\",\"type\":\"LinearAxis\"},{\"attributes\":{\"plot\":{\"id\":\"10e9f0f1-6ceb-4831-bab9-16526963309e\",\"subtype\":\"Figure\",\"type\":\"Plot\"}},\"id\":\"68b1d030-f7bc-46f2-9390-fefa05eba499\",\"type\":\"PanTool\"},{\"attributes\":{\"active_drag\":\"auto\",\"active_scroll\":\"auto\",\"active_tap\":\"auto\",\"tools\":[{\"id\":\"68b1d030-f7bc-46f2-9390-fefa05eba499\",\"type\":\"PanTool\"},{\"id\":\"81fb8a31-89e9-4fd3-b62b-9f433eddf275\",\"type\":\"WheelZoomTool\"},{\"id\":\"1674ecc4-0b13-4366-99db-d74c85c59edc\",\"type\":\"BoxZoomTool\"},{\"id\":\"5cbac2c5-fc36-4d2b-b2f4-fc69737959ab\",\"type\":\"SaveTool\"},{\"id\":\"f64cdc1c-2504-4957-9375-bc1e113ea45b\",\"type\":\"ResetTool\"},{\"id\":\"70491689-f55c-43f5-a455-f437f9458025\",\"type\":\"HelpTool\"}]},\"id\":\"6cadffee-f23a-438a-ad2a-4296b899130a\",\"type\":\"Toolbar\"},{\"attributes\":{},\"id\":\"018275b5-2648-477f-a29d-9077a812b424\",\"type\":\"BasicTickFormatter\"},{\"attributes\":{\"fill_color\":{\"field\":\"fill_color\"},\"line_color\":{\"field\":\"line_color\"},\"x\":{\"field\":\"x\"},\"y\":{\"field\":\"y\"}},\"id\":\"543717a4-81cd-4f13-9865-3a5adbf9a4af\",\"type\":\"Circle\"},{\"attributes\":{},\"id\":\"9bf546b5-7640-4b04-94b4-fd0b28facf50\",\"type\":\"BasicTicker\"},{\"attributes\":{},\"id\":\"04c14b40-47db-470b-a291-76f3bb174131\",\"type\":\"BasicTickFormatter\"},{\"attributes\":{\"plot\":{\"id\":\"10e9f0f1-6ceb-4831-bab9-16526963309e\",\"subtype\":\"Figure\",\"type\":\"Plot\"}},\"id\":\"70491689-f55c-43f5-a455-f437f9458025\",\"type\":\"HelpTool\"},{\"attributes\":{\"axis_label\":\"Latitude\",\"formatter\":{\"id\":\"018275b5-2648-477f-a29d-9077a812b424\",\"type\":\"BasicTickFormatter\"},\"plot\":{\"id\":\"10e9f0f1-6ceb-4831-bab9-16526963309e\",\"subtype\":\"Figure\",\"type\":\"Plot\"},\"ticker\":{\"id\":\"68ce0906-31cf-48b4-b211-2fa8aee132f5\",\"type\":\"BasicTicker\"}},\"id\":\"a73608ea-b7aa-46c6-b669-beaba80459bc\",\"type\":\"LinearAxis\"},{\"attributes\":{\"callback\":null,\"column_names\":[\"x\",\"y\",\"line_color\",\"fill_color\"],\"data\":{\"fill_color\":[\"#00f\",\"#00f\",\"#0f0\",\"#0f0\",\"#0f0\",\"#0f0\",\"#00f\",\"#00f\",\"#0f0\",\"#0f0\",\"#f0f\",\"#f0f\",\"#f0f\",\"#f0f\",\"#0f0\",\"#0f0\",\"#f00\",\"#0f0\",\"#0f0\",\"#0f0\",\"#0f0\",\"#00f\",\"#00f\",\"#00f\",\"#00f\",\"#0f0\",\"#0f0\",\"#00f\",\"#00f\",\"#00f\",\"#00f\",\"#00f\",\"#00f\",\"#f0f\",\"#0ff\",\"#0f0\",\"#0f0\",\"#0f0\",\"#0f0\",\"#0f0\",\"#0ff\",\"#0f0\",\"#0f0\",\"#0ff\",\"#0ff\",\"#0f0\",\"#0f0\",\"#0ff\",\"#0f0\",\"#0f0\",\"#00f\",\"#00f\",\"#0f0\",\"#0f0\",\"#0f0\",\"#0f0\",\"#f0f\",\"#f0f\",\"#00f\",\"#00f\",\"#0f0\",\"#0f0\",\"#0f0\",\"#0f0\",\"#0f0\",\"#0f0\",\"#00f\",\"#00f\",\"#00f\",\"#00f\",\"#00f\",\"#00f\",\"#00f\",\"#00f\",\"#00f\",\"#0f0\",\"#0f0\",\"#0f0\",\"#0f0\",\"#0f0\",\"#0f0\",\"#f0f\",\"#f0f\",\"#f0f\",\"#00f\",\"#00f\",\"#00f\",\"#00f\",\"#f0f\",\"#f0f\",\"#f0f\",\"#f0f\",\"#0f0\",\"#0f0\",\"#00f\",\"#00f\",\"#00f\",\"#00f\",\"#f0f\",\"#0f0\",\"#0f0\",\"#f0f\",\"#f0f\",\"#f0f\",\"#0f0\",\"#0f0\",\"#0f0\",\"#00f\",\"#00f\",\"#ff0\",\"#0f0\",\"#f0f\",\"#f0f\",\"#f0f\",\"#00f\",\"#00f\",\"#0f0\",\"#f0f\",\"#f0f\",\"#00f\",\"#00f\",\"#00f\",\"#00f\",\"#00f\",\"#00f\"],\"line_color\":[\"#00f\",\"#00f\",\"#0f0\",\"#0f0\",\"#0f0\",\"#0f0\",\"#00f\",\"#00f\",\"#0f0\",\"#0f0\",\"#f0f\",\"#f0f\",\"#f0f\",\"#f0f\",\"#0f0\",\"#0f0\",\"#f00\",\"#0f0\",\"#0f0\",\"#0f0\",\"#0f0\",\"#00f\",\"#00f\",\"#00f\",\"#00f\",\"#0f0\",\"#0f0\",\"#00f\",\"#00f\",\"#00f\",\"#00f\",\"#00f\",\"#00f\",\"#f0f\",\"#0ff\",\"#0f0\",\"#0f0\",\"#0f0\",\"#0f0\",\"#0f0\",\"#0ff\",\"#0f0\",\"#0f0\",\"#0ff\",\"#0ff\",\"#0f0\",\"#0f0\",\"#0ff\",\"#0f0\",\"#0f0\",\"#00f\",\"#00f\",\"#0f0\",\"#0f0\",\"#0f0\",\"#0f0\",\"#f0f\",\"#f0f\",\"#00f\",\"#00f\",\"#0f0\",\"#0f0\",\"#0f0\",\"#0f0\",\"#0f0\",\"#0f0\",\"#00f\",\"#00f\",\"#00f\",\"#00f\",\"#00f\",\"#00f\",\"#00f\",\"#00f\",\"#00f\",\"#0f0\",\"#0f0\",\"#0f0\",\"#0f0\",\"#0f0\",\"#0f0\",\"#f0f\",\"#f0f\",\"#f0f\",\"#00f\",\"#00f\",\"#00f\",\"#00f\",\"#f0f\",\"#f0f\",\"#f0f\",\"#f0f\",\"#0f0\",\"#0f0\",\"#00f\",\"#00f\",\"#00f\",\"#00f\",\"#f0f\",\"#0f0\",\"#0f0\",\"#f0f\",\"#f0f\",\"#f0f\",\"#0f0\",\"#0f0\",\"#0f0\",\"#00f\",\"#00f\",\"#ff0\",\"#0f0\",\"#f0f\",\"#f0f\",\"#f0f\",\"#00f\",\"#00f\",\"#0f0\",\"#f0f\",\"#f0f\",\"#00f\",\"#00f\",\"#00f\",\"#00f\",\"#00f\",\"#00f\"],\"x\":{\"__ndarray__\":\"L90kBoGFQUAv3SQGgYVBQE19xb90a0NATX3Fv3RrQ0BNfcW/dGtDQE19xb90a0NA3fjJB/O8QEDd+MkH87xAQKvfOyC/aENAq987IL9oQ0BeukkMArtCQKWAtP8Bu0JApYC0/wG7QkBcj8L1KMxCQMlK3d/qaENAyUrd3+poQ0DvycNCrV9EQHLs6p/xakNAcuzqn/FqQ0BOUeT/RC1CQE5R5P9ELUJAdJMYBFb+QEB0kxgEVv5AQFlBHaBF/kBAWUEdoEX+QEAQnr+/92tDQBCev7/3a0NAkxgEVg4dQUCTGARWDh1BQI4TFWAOHUFAjhMVYA4dQUA830+Nly5BQDzfT42XLkFAejarPlc7Q0BqvHSTGIRGQJWkxt9RYENAlaTG31FgQ0BiodY079hDQGKh1jTv2ENAyjLEsS7WQ0Db+X5qvIRGQF/Dwv8Ma0NAX8PC/wxrQ0AxCKwcWoRGQDEIrBxahEZATammf6RpQ0BNqaZ/pGlDQGq8dJMYhEZAfGMIAI5oQ0B8YwgAjmhDQDcfMkD9u0BANx8yQP27QEDw9zAgIP9BQPD3MCAg/0FAWdcNgF1pQ0BZ1w2AXWlDQDzfT42XXkRAEce6uI1eRECpdSwA1ztBQKl1LADXO0FAlkwEYPJjQkCWTARg8mNCQPfGEAAcaUNA98YQABxpQ0B8+fjfpWtDQHz5+N+la0NA5RYEoJsEQUDlFgSgmwRBQIxs5/upAUFAjGzn+6kBQUC//6A/fgFBQL//oD9+AUFAuMaxP5qKQEC4xrE/mopAQBBYObTInkFAzC0IQDeJQkDMLQhAN4lCQE2ppn+kaUNATammf6RpQ0BiTivg+WZDQGJOK+D5ZkNARXC3f8DCQkBFcLd/wMJCQAu1pnnHwUJArBxaZDufQUCsHFpkO59BQJDKXgArn0FAkMpeACufQUCNl24Sg+hEQH9qvHST6ERAjZduEoPoRECNl24Sg+hEQIVwFkBCaUNAhXAWQEJpQ0AhsHJokU1BQCGwcmiRTUFASTlOwGVNQUBJOU7AZU1BQFUwKqkTUENAhXAWQEJpQ0CFcBZAQmlDQP7UeOkmwUJA/tR46SbBQkD4wmSqYMRCQHE9Ctej4EJA25DaH4PgQkBd+GZAYmhDQE421N6WbUBATjbU3pZtQEC+Vhn4l8RDQCodrP9zakNAH4XrUbhOQ0BJnYAmwk5DQJVliGNdRENAkiurn+2sQECSK6uf7axAQN5HJMCfAkJAR3L5D+kPQ0DXNO84RQ9DQK4jsx/OBkFAriOzH84GQUCew2tNqbhAQJ7Da02puEBAXI/C9Sj8QEBcj8L1KPxAQA==\",\"dtype\":\"float64\",\"shape\":[125]},\"y\":{\"__ndarray__\":\"lkOLbOfDXcCWQ4ts58NdwKVU0z/StF7ApVTTP9K0XsA5lQwA1bRewDmVDADVtF7AJBwf0pQeXcAkHB/SlB5dwHcKA+Bps17AdwoD4GmzXsAcWmQ736ddwCyZCMDkp13ALJkIwOSnXcAU0ETY8KRdwDyh15/EsF7APKHXn8SwXsBP3zKny3xSwNYONcC7s17A1g41wLuzXsD4xhAAHBlewPjGEAAcGV7Aj8L1KFyXXcCPwvUoXJddwFAILqBhl13AUAguoGGXXcClVNM/0rRewKVU0z/StF7A7FG4HoVbXcDsUbgehVtdwKiSAaCKW13AqJIBoIpbXcBxPQrXo6hdwHE9CtejqF3AQKTfvg6YXcBI4XoUrvdbwPKZ7J8nrl7A8pnsnyeuXsB2cRsN4ClewHZxGw3gKV7Anzws1JoqXsAshxbZzvdbwJ15KMDmsl7AnXkowOayXsDUeOkmMfhbwOw7GuIz+FvAvgUjQBe2XsC+BSNAF7ZewLgehetR+FvAn1kSoKa0XsCfWRKgprRewObqIuBrHl3A5uoi4GseXcDkoCngwyNewOSgKeDDI17AQvrcv+i1XsBC+ty/6LVewGmR7Xw/DV3ABTQRNjwNXcC2+BQAY8ldwLb4FABjyV3AOcHtvwRfXsA5we2/BF9ewNQ6FoDrtV7A1DoWgOu1XsAIZdC/E7VewAhl0L8TtV7A51QyAFQ/XcDnVDIAVD9dwJMYBFYOTV3AkxgEVg5NXcCGfOHfMU1dwIZ84d8xTV3AvgUjQBceXcC+BSNAFx5dwJLX3gLkOl3AJQLVPwhgXsAlAtU/CGBewG0p1l/ltF7AbSnWX+W0XsDMLQhAN7VewMwtCEA3tV7AvgUjQBeyXcC+BSNAF7JdwHbgnBGlsV3AiUFg5dA6XcCJQWDl0DpdwHqDHiDOOl3AeoMeIM46XcB6xyk6kutdwN0kBoGV613AescpOpLrXcB6xyk6kutdwMdq8/8qs17Ax2rz/yqzXsBWDi2ynSddwFYOLbKdJ13A91wB4DMoXcD3XAHgMyhdwIbJVMGokF3Ajn0kgPa1XsCOfSSA9rVewEoMAiuHXl3ANIC3QIJeXcCKjuTyH15dwM/3U+Olg17AsxgrIKODXsBK2wlAbbRewMZLN4lB4FzAxks3iUHgXMCE2QQYljdawNCDzN/Os17A7FG4HoVDXcBPr5RliENdwJ88LNSaRl3A6CLPP4s8XcDoIs8/izxdwFnXDYBdJV7AEqW9wRfKXMCrz9VW7MdcwBcJEoCkUV3AFwkSgKRRXcCamZmZmS1dwJqZmZmZLV3Axks3iUE4XcDGSzeJQThdwA==\",\"dtype\":\"float64\",\"shape\":[125]}}},\"id\":\"1aaa4c16-b809-4dc6-a05f-de0003ad8c1d\",\"type\":\"ColumnDataSource\"},{\"attributes\":{\"plot\":{\"id\":\"10e9f0f1-6ceb-4831-bab9-16526963309e\",\"subtype\":\"Figure\",\"type\":\"Plot\"}},\"id\":\"5cbac2c5-fc36-4d2b-b2f4-fc69737959ab\",\"type\":\"SaveTool\"},{\"attributes\":{\"plot\":null,\"text\":\"Clustering Tweets by Location\"},\"id\":\"b7391645-59e2-45cc-8afa-d55e4106b8a8\",\"type\":\"Title\"},{\"attributes\":{\"dimension\":1,\"plot\":{\"id\":\"10e9f0f1-6ceb-4831-bab9-16526963309e\",\"subtype\":\"Figure\",\"type\":\"Plot\"},\"ticker\":{\"id\":\"9bf546b5-7640-4b04-94b4-fd0b28facf50\",\"type\":\"BasicTicker\"}},\"id\":\"3817ae90-d369-4cb3-9af6-0bc8caaa8a82\",\"type\":\"Grid\"},{\"attributes\":{\"fill_alpha\":{\"value\":0.1},\"fill_color\":{\"value\":\"#1f77b4\"},\"line_alpha\":{\"value\":0.1},\"line_color\":{\"value\":\"#1f77b4\"},\"x\":{\"field\":\"x\"},\"y\":{\"field\":\"y\"}},\"id\":\"49be68b6-967f-4354-9963-0931ea0e2a1d\",\"type\":\"Circle\"}],\"root_ids\":[\"10e9f0f1-6ceb-4831-bab9-16526963309e\"]},\"title\":\"Bokeh Application\",\"version\":\"0.12.4\"}};\n",
       "            var render_items = [{\"docid\":\"d3766bb3-c4eb-4ef8-9cdb-9d4db1f1ece7\",\"elementid\":\"12fec076-e2fb-4096-ae05-4b785c32ac0b\",\"modelid\":\"10e9f0f1-6ceb-4831-bab9-16526963309e\"}];\n",
       "            \n",
       "            Bokeh.embed.embed_items(docs_json, render_items);\n",
       "          };\n",
       "          if (document.readyState != \"loading\") fn();\n",
       "          else document.addEventListener(\"DOMContentLoaded\", fn);\n",
       "        })();\n",
       "      },\n",
       "      function(Bokeh) {\n",
       "      }\n",
       "    ];\n",
       "  \n",
       "    function run_inline_js() {\n",
       "      \n",
       "      if ((window.Bokeh !== undefined) || (force === true)) {\n",
       "        for (var i = 0; i < inline_js.length; i++) {\n",
       "          inline_js[i](window.Bokeh);\n",
       "        }if (force === true) {\n",
       "          display_loaded();\n",
       "        }} else if (Date.now() < window._bokeh_timeout) {\n",
       "        setTimeout(run_inline_js, 100);\n",
       "      } else if (!window._bokeh_failed_load) {\n",
       "        console.log(\"Bokeh: BokehJS failed to load within specified timeout.\");\n",
       "        window._bokeh_failed_load = true;\n",
       "      } else if (force !== true) {\n",
       "        var cell = $(document.getElementById(\"12fec076-e2fb-4096-ae05-4b785c32ac0b\")).parents('.cell').data().cell;\n",
       "        cell.output_area.append_execute_result(NB_LOAD_WARNING)\n",
       "      }\n",
       "  \n",
       "    }\n",
       "  \n",
       "    if (window._bokeh_is_loading === 0) {\n",
       "      console.log(\"Bokeh: BokehJS loaded, going straight to plotting\");\n",
       "      run_inline_js();\n",
       "    } else {\n",
       "      load_libs(js_urls, function() {\n",
       "        console.log(\"Bokeh: BokehJS plotting callback run at\", now());\n",
       "        run_inline_js();\n",
       "      });\n",
       "    }\n",
       "  }(this));\n",
       "</script>"
      ]
     },
     "metadata": {},
     "output_type": "display_data"
    }
   ],
   "source": [
    "colors = np.array([x for x in ('#00f', '#0f0', '#f00', '#0ff', '#f0f', '#ff0')])\n",
    "plot = figure(width=550, height=550, title='Clustering Tweets by Location', x_axis_label = \"Latitude\", y_axis_label = \"Longitude\")\n",
    "plot.scatter(latlong[:,0],latlong[:,1], color = colors[k_means.labels_].tolist())\n",
    "show(plot)"
   ]
  },
  {
   "cell_type": "markdown",
   "metadata": {},
   "source": [
    "# By Tweets\n",
    "<br>\n",
    "We clustered tweets by bag of words and used PCA to transform the data and visualize it in 2d. "
   ]
  },
  {
   "cell_type": "code",
   "execution_count": 27,
   "metadata": {
    "collapsed": true
   },
   "outputs": [],
   "source": [
    "##Clustering by bag of words\n",
    "pipeline = Pipeline([\n",
    "    ('vect', CountVectorizer()),\n",
    "    ('tfidf', TfidfTransformer()),\n",
    "])        \n",
    "X = pipeline.fit_transform(data[\"Tweet content\"].tolist()).todense()\n",
    "pca = PCA(n_components=2).fit(X)\n",
    "data2D = pca.transform(X)"
   ]
  },
  {
   "cell_type": "code",
   "execution_count": 28,
   "metadata": {
    "collapsed": false
   },
   "outputs": [
    {
     "data": {
      "text/html": [
       "\n",
       "\n",
       "    <div class=\"bk-root\">\n",
       "        <div class=\"bk-plotdiv\" id=\"6e2c9412-32a1-4366-9646-aecaa7e431ae\"></div>\n",
       "    </div>\n",
       "<script type=\"text/javascript\">\n",
       "  \n",
       "  (function(global) {\n",
       "    function now() {\n",
       "      return new Date();\n",
       "    }\n",
       "  \n",
       "    var force = false;\n",
       "  \n",
       "    if (typeof (window._bokeh_onload_callbacks) === \"undefined\" || force === true) {\n",
       "      window._bokeh_onload_callbacks = [];\n",
       "      window._bokeh_is_loading = undefined;\n",
       "    }\n",
       "  \n",
       "  \n",
       "    \n",
       "    if (typeof (window._bokeh_timeout) === \"undefined\" || force === true) {\n",
       "      window._bokeh_timeout = Date.now() + 0;\n",
       "      window._bokeh_failed_load = false;\n",
       "    }\n",
       "  \n",
       "    var NB_LOAD_WARNING = {'data': {'text/html':\n",
       "       \"<div style='background-color: #fdd'>\\n\"+\n",
       "       \"<p>\\n\"+\n",
       "       \"BokehJS does not appear to have successfully loaded. If loading BokehJS from CDN, this \\n\"+\n",
       "       \"may be due to a slow or bad network connection. Possible fixes:\\n\"+\n",
       "       \"</p>\\n\"+\n",
       "       \"<ul>\\n\"+\n",
       "       \"<li>re-rerun `output_notebook()` to attempt to load from CDN again, or</li>\\n\"+\n",
       "       \"<li>use INLINE resources instead, as so:</li>\\n\"+\n",
       "       \"</ul>\\n\"+\n",
       "       \"<code>\\n\"+\n",
       "       \"from bokeh.resources import INLINE\\n\"+\n",
       "       \"output_notebook(resources=INLINE)\\n\"+\n",
       "       \"</code>\\n\"+\n",
       "       \"</div>\"}};\n",
       "  \n",
       "    function display_loaded() {\n",
       "      if (window.Bokeh !== undefined) {\n",
       "        document.getElementById(\"6e2c9412-32a1-4366-9646-aecaa7e431ae\").textContent = \"BokehJS successfully loaded.\";\n",
       "      } else if (Date.now() < window._bokeh_timeout) {\n",
       "        setTimeout(display_loaded, 100)\n",
       "      }\n",
       "    }\n",
       "  \n",
       "    function run_callbacks() {\n",
       "      window._bokeh_onload_callbacks.forEach(function(callback) { callback() });\n",
       "      delete window._bokeh_onload_callbacks\n",
       "      console.info(\"Bokeh: all callbacks have finished\");\n",
       "    }\n",
       "  \n",
       "    function load_libs(js_urls, callback) {\n",
       "      window._bokeh_onload_callbacks.push(callback);\n",
       "      if (window._bokeh_is_loading > 0) {\n",
       "        console.log(\"Bokeh: BokehJS is being loaded, scheduling callback at\", now());\n",
       "        return null;\n",
       "      }\n",
       "      if (js_urls == null || js_urls.length === 0) {\n",
       "        run_callbacks();\n",
       "        return null;\n",
       "      }\n",
       "      console.log(\"Bokeh: BokehJS not loaded, scheduling load and callback at\", now());\n",
       "      window._bokeh_is_loading = js_urls.length;\n",
       "      for (var i = 0; i < js_urls.length; i++) {\n",
       "        var url = js_urls[i];\n",
       "        var s = document.createElement('script');\n",
       "        s.src = url;\n",
       "        s.async = false;\n",
       "        s.onreadystatechange = s.onload = function() {\n",
       "          window._bokeh_is_loading--;\n",
       "          if (window._bokeh_is_loading === 0) {\n",
       "            console.log(\"Bokeh: all BokehJS libraries loaded\");\n",
       "            run_callbacks()\n",
       "          }\n",
       "        };\n",
       "        s.onerror = function() {\n",
       "          console.warn(\"failed to load library \" + url);\n",
       "        };\n",
       "        console.log(\"Bokeh: injecting script tag for BokehJS library: \", url);\n",
       "        document.getElementsByTagName(\"head\")[0].appendChild(s);\n",
       "      }\n",
       "    };var element = document.getElementById(\"6e2c9412-32a1-4366-9646-aecaa7e431ae\");\n",
       "    if (element == null) {\n",
       "      console.log(\"Bokeh: ERROR: autoload.js configured with elementid '6e2c9412-32a1-4366-9646-aecaa7e431ae' but no matching script tag was found. \")\n",
       "      return false;\n",
       "    }\n",
       "  \n",
       "    var js_urls = [];\n",
       "  \n",
       "    var inline_js = [\n",
       "      function(Bokeh) {\n",
       "        (function() {\n",
       "          var fn = function() {\n",
       "            var docs_json = {\"bb1eeb62-6262-4593-82d6-0f47a0950e88\":{\"roots\":{\"references\":[{\"attributes\":{},\"id\":\"10e5af74-5314-47cd-8639-62a687493003\",\"type\":\"ToolEvents\"},{\"attributes\":{},\"id\":\"78535594-c598-4d9e-a78d-8309b049ac75\",\"type\":\"BasicTickFormatter\"},{\"attributes\":{\"dimension\":1,\"plot\":{\"id\":\"da10e212-fb8d-40dd-b10b-db0bc9d79426\",\"subtype\":\"Figure\",\"type\":\"Plot\"},\"ticker\":{\"id\":\"67809103-e490-4dd9-8d90-c049cf133861\",\"type\":\"BasicTicker\"}},\"id\":\"73fcbd3f-4f61-46dd-acb6-7163f2ee6856\",\"type\":\"Grid\"},{\"attributes\":{\"below\":[{\"id\":\"acf2254d-e0c0-4def-b6bc-a88d3ad8122c\",\"type\":\"LinearAxis\"}],\"left\":[{\"id\":\"c9a5c392-d440-4737-aba3-73e1e2c7f838\",\"type\":\"LinearAxis\"}],\"plot_height\":550,\"plot_width\":550,\"renderers\":[{\"id\":\"acf2254d-e0c0-4def-b6bc-a88d3ad8122c\",\"type\":\"LinearAxis\"},{\"id\":\"4b201ffe-863e-4528-8567-7127519b5340\",\"type\":\"Grid\"},{\"id\":\"c9a5c392-d440-4737-aba3-73e1e2c7f838\",\"type\":\"LinearAxis\"},{\"id\":\"73fcbd3f-4f61-46dd-acb6-7163f2ee6856\",\"type\":\"Grid\"},{\"id\":\"8172d549-76b0-40af-8506-3e3eeee548b2\",\"type\":\"BoxAnnotation\"},{\"id\":\"ffdc7e5f-77fc-4971-a42c-6788f60470b3\",\"type\":\"GlyphRenderer\"}],\"title\":{\"id\":\"19f66ddc-e9e8-4ad2-b6f9-e8d310488b68\",\"type\":\"Title\"},\"tool_events\":{\"id\":\"10e5af74-5314-47cd-8639-62a687493003\",\"type\":\"ToolEvents\"},\"toolbar\":{\"id\":\"a2b9679c-fcbd-4889-8567-e67f1cfee68b\",\"type\":\"Toolbar\"},\"x_range\":{\"id\":\"a20cab98-4d7b-44a5-86d7-104c62af42c4\",\"type\":\"DataRange1d\"},\"y_range\":{\"id\":\"3960b041-0f4d-452e-bc78-2679ac6b55b8\",\"type\":\"DataRange1d\"}},\"id\":\"da10e212-fb8d-40dd-b10b-db0bc9d79426\",\"subtype\":\"Figure\",\"type\":\"Plot\"},{\"attributes\":{},\"id\":\"21a97a6c-663e-4dfd-ac00-b56a311cef7a\",\"type\":\"BasicTickFormatter\"},{\"attributes\":{\"formatter\":{\"id\":\"78535594-c598-4d9e-a78d-8309b049ac75\",\"type\":\"BasicTickFormatter\"},\"plot\":{\"id\":\"da10e212-fb8d-40dd-b10b-db0bc9d79426\",\"subtype\":\"Figure\",\"type\":\"Plot\"},\"ticker\":{\"id\":\"67809103-e490-4dd9-8d90-c049cf133861\",\"type\":\"BasicTicker\"}},\"id\":\"c9a5c392-d440-4737-aba3-73e1e2c7f838\",\"type\":\"LinearAxis\"},{\"attributes\":{\"bottom_units\":\"screen\",\"fill_alpha\":{\"value\":0.5},\"fill_color\":{\"value\":\"lightgrey\"},\"left_units\":\"screen\",\"level\":\"overlay\",\"line_alpha\":{\"value\":1.0},\"line_color\":{\"value\":\"black\"},\"line_dash\":[4,4],\"line_width\":{\"value\":2},\"plot\":null,\"render_mode\":\"css\",\"right_units\":\"screen\",\"top_units\":\"screen\"},\"id\":\"8172d549-76b0-40af-8506-3e3eeee548b2\",\"type\":\"BoxAnnotation\"},{\"attributes\":{\"fill_color\":{\"field\":\"fill_color\"},\"line_color\":{\"field\":\"line_color\"},\"x\":{\"field\":\"x\"},\"y\":{\"field\":\"y\"}},\"id\":\"676de12e-dfe1-4a20-adfa-e57327238ecc\",\"type\":\"Circle\"},{\"attributes\":{\"overlay\":{\"id\":\"8172d549-76b0-40af-8506-3e3eeee548b2\",\"type\":\"BoxAnnotation\"},\"plot\":{\"id\":\"da10e212-fb8d-40dd-b10b-db0bc9d79426\",\"subtype\":\"Figure\",\"type\":\"Plot\"}},\"id\":\"067a930e-882b-4b1f-9e1f-334783e54902\",\"type\":\"BoxZoomTool\"},{\"attributes\":{\"data_source\":{\"id\":\"2037eb24-9f60-4239-a447-bbabc3d623f3\",\"type\":\"ColumnDataSource\"},\"glyph\":{\"id\":\"676de12e-dfe1-4a20-adfa-e57327238ecc\",\"type\":\"Circle\"},\"hover_glyph\":null,\"nonselection_glyph\":{\"id\":\"fed248b4-4bb9-4ae8-8ac8-616c42fb21c5\",\"type\":\"Circle\"},\"selection_glyph\":null},\"id\":\"ffdc7e5f-77fc-4971-a42c-6788f60470b3\",\"type\":\"GlyphRenderer\"},{\"attributes\":{\"plot\":{\"id\":\"da10e212-fb8d-40dd-b10b-db0bc9d79426\",\"subtype\":\"Figure\",\"type\":\"Plot\"}},\"id\":\"686190c2-d269-451a-9dd5-8ffe800edfdd\",\"type\":\"WheelZoomTool\"},{\"attributes\":{\"plot\":{\"id\":\"da10e212-fb8d-40dd-b10b-db0bc9d79426\",\"subtype\":\"Figure\",\"type\":\"Plot\"}},\"id\":\"7826271a-4a48-4f05-8e21-d8fba2f2eeee\",\"type\":\"ResetTool\"},{\"attributes\":{},\"id\":\"ccba98e5-28f3-49d4-bf61-75af31ef20ce\",\"type\":\"BasicTicker\"},{\"attributes\":{\"callback\":null,\"column_names\":[\"x\",\"y\",\"line_color\",\"fill_color\"],\"data\":{\"fill_color\":[\"#00f\",\"#00f\",\"#0f0\",\"#0f0\",\"#0f0\",\"#0f0\",\"#00f\",\"#00f\",\"#0f0\",\"#0f0\",\"#f0f\",\"#f0f\",\"#f0f\",\"#f0f\",\"#0f0\",\"#0f0\",\"#f00\",\"#0f0\",\"#0f0\",\"#0f0\",\"#0f0\",\"#00f\",\"#00f\",\"#00f\",\"#00f\",\"#0f0\",\"#0f0\",\"#00f\",\"#00f\",\"#00f\",\"#00f\",\"#00f\",\"#00f\",\"#f0f\",\"#0ff\",\"#0f0\",\"#0f0\",\"#0f0\",\"#0f0\",\"#0f0\",\"#0ff\",\"#0f0\",\"#0f0\",\"#0ff\",\"#0ff\",\"#0f0\",\"#0f0\",\"#0ff\",\"#0f0\",\"#0f0\",\"#00f\",\"#00f\",\"#0f0\",\"#0f0\",\"#0f0\",\"#0f0\",\"#f0f\",\"#f0f\",\"#00f\",\"#00f\",\"#0f0\",\"#0f0\",\"#0f0\",\"#0f0\",\"#0f0\",\"#0f0\",\"#00f\",\"#00f\",\"#00f\",\"#00f\",\"#00f\",\"#00f\",\"#00f\",\"#00f\",\"#00f\",\"#0f0\",\"#0f0\",\"#0f0\",\"#0f0\",\"#0f0\",\"#0f0\",\"#f0f\",\"#f0f\",\"#f0f\",\"#00f\",\"#00f\",\"#00f\",\"#00f\",\"#f0f\",\"#f0f\",\"#f0f\",\"#f0f\",\"#0f0\",\"#0f0\",\"#00f\",\"#00f\",\"#00f\",\"#00f\",\"#f0f\",\"#0f0\",\"#0f0\",\"#f0f\",\"#f0f\",\"#f0f\",\"#0f0\",\"#0f0\",\"#0f0\",\"#00f\",\"#00f\",\"#ff0\",\"#0f0\",\"#f0f\",\"#f0f\",\"#f0f\",\"#00f\",\"#00f\",\"#0f0\",\"#f0f\",\"#f0f\",\"#00f\",\"#00f\",\"#00f\",\"#00f\",\"#00f\",\"#00f\"],\"line_color\":[\"#00f\",\"#00f\",\"#0f0\",\"#0f0\",\"#0f0\",\"#0f0\",\"#00f\",\"#00f\",\"#0f0\",\"#0f0\",\"#f0f\",\"#f0f\",\"#f0f\",\"#f0f\",\"#0f0\",\"#0f0\",\"#f00\",\"#0f0\",\"#0f0\",\"#0f0\",\"#0f0\",\"#00f\",\"#00f\",\"#00f\",\"#00f\",\"#0f0\",\"#0f0\",\"#00f\",\"#00f\",\"#00f\",\"#00f\",\"#00f\",\"#00f\",\"#f0f\",\"#0ff\",\"#0f0\",\"#0f0\",\"#0f0\",\"#0f0\",\"#0f0\",\"#0ff\",\"#0f0\",\"#0f0\",\"#0ff\",\"#0ff\",\"#0f0\",\"#0f0\",\"#0ff\",\"#0f0\",\"#0f0\",\"#00f\",\"#00f\",\"#0f0\",\"#0f0\",\"#0f0\",\"#0f0\",\"#f0f\",\"#f0f\",\"#00f\",\"#00f\",\"#0f0\",\"#0f0\",\"#0f0\",\"#0f0\",\"#0f0\",\"#0f0\",\"#00f\",\"#00f\",\"#00f\",\"#00f\",\"#00f\",\"#00f\",\"#00f\",\"#00f\",\"#00f\",\"#0f0\",\"#0f0\",\"#0f0\",\"#0f0\",\"#0f0\",\"#0f0\",\"#f0f\",\"#f0f\",\"#f0f\",\"#00f\",\"#00f\",\"#00f\",\"#00f\",\"#f0f\",\"#f0f\",\"#f0f\",\"#f0f\",\"#0f0\",\"#0f0\",\"#00f\",\"#00f\",\"#00f\",\"#00f\",\"#f0f\",\"#0f0\",\"#0f0\",\"#f0f\",\"#f0f\",\"#f0f\",\"#0f0\",\"#0f0\",\"#0f0\",\"#00f\",\"#00f\",\"#ff0\",\"#0f0\",\"#f0f\",\"#f0f\",\"#f0f\",\"#00f\",\"#00f\",\"#0f0\",\"#f0f\",\"#f0f\",\"#00f\",\"#00f\",\"#00f\",\"#00f\",\"#00f\",\"#00f\"],\"x\":{\"__ndarray__\":\"+NRgeqs74j+bpGwMbOngP1XLZM2kacq/VMtkzaRpyr8iAuYmj/vPvyMC5iaP+8+/hBrMsz93pL+EGsyzP3ekvylQXKKSuMa/KFBcopK4xr8GUWTawDrhP8cVscZAbr2/yRWxxkBuvb+E1s4zN5/TP6fFlm2MwMy/p8WWbYzAzL8a5kkw4Ca6P8ybkD4MYMi/zJuQPgxgyL8E71Bix5PHvwTvUGLHk8e/2XkXBtwl4D/fM7fAu9bhP2JcaS2bNLe/YlxpLZs0t7+h7cjJxGrNv6LtyMnEas2/JGFq4Gdo3j+40xsC78nhP1RFTghCmcy/VEVOCEKZzL/aeRcG3CXgP+Azt8C71uE/q9DnGQM0vL8/XH/vJN3bP+A7pyPGosq/4DunI8aiyr8oMjsDbsHIvygyOwNuwci/SKyrsEmh1D+EAHvYM2PfP4YK4IF9qMy/hgrggX2ozL81/nCouSLbP7z7tKqrdLK/E4OWdl56zb8Tg5Z2XnrNvwLHwNoPduA/KoZlBrke0L8rhmUGuR7Qvy7BXNVOh8a/LsFc1U6Hxr9V+TLdVsjKv1X5Mt1WyMq/TUOUeqHayr9NQ5R6odrKv1J+J2aZGtw/cNdu9x7qwr+Ap2Doe3TFv4CnYOh7dMW/iFAqJ6aLwL+IUConpovAv6qTdIYrYse/qpN0hitix79gwDRA9d/Gv2DANED138a/4IevNB0AyL/gh680HQDIv0bKHdZEP+M/TnNpt1774T/5RHIEGX+9v/hEcgQZf72/ZYev3dE1wb9lh6/d0TXBv4rUvaNoQcM/co27PSC4xL9yjbs9ILjEv4eBjS+b5Mi/iIGNL5vkyL8cMTPpZCXLvxoxM+lkJcu/fANI4p1HvL96A0jinUe8vyLcUbtRjNE/WjXadBYW3T9b6ZbGgR7bP1DVaiKP9Le/UNVqIo/0t782NPlBi0SyP9jEQLtpQt0/hdHhNEPxvL+G0eE0Q/G8v5auAvR4wse/lq4C9HjCx7+QLLXISUHhP0Qrql261uA/ZMQU6uo3ub9kxBTq6je5v45elvgVJLS/CK/cO6NVyr8Ir9w7o1XKvxEFqtj1D9o//SMOdspXuL927t5BMqLQP30yQ76y1uE/vKaUWLMRub9dx+t0JsvEv04K+zC/3bC/Twr7ML/dsL+hN2exJj+6P96ODK6JxMO/dvQyUDk74D+aLCRqjEHFv1B/S4yBiNI/QXbDlKmDur9AdsOUqYO6v/XaEb1b1sC/eUpySG2svL8+emgiyLrRPyFvpcI1obu/IW+lwjWhu78vILoKhbCkvzEgugqFsKS/vftX2Ur4rL+8+1fZSvisvw==\",\"dtype\":\"float64\",\"shape\":[125]},\"y\":{\"__ndarray__\":\"kORXsKmeej+Oa/ePMA6evw4rHd8pnIy/9iod3ymcjL94KxO6dClyv74rE7p0KXK/MBKxUHsIx78xErFQewjHv3PVcKCFbsS/dtVwoIVuxL98qq3j4M2yPz/vElhyyMs/P+8SWHLIyz9f+yKPNW7GP0JPh+n2c76/Q0+H6fZzvr/x7eHC39aXv7wZ7lvvvpY/uhnuW+++lj9i5TK6UV29v2TlMrpRXb2/ZmGhheuolD8S3soDwz2KP+BBptlJ20O/4EGm2UnbQ7/gPTX/Q3bFv+A9Nf9DdsW/TpRhzlVWkL/iODDuvmiEP6vamAUihoO/r9qYBSKGg79pYaGF66iUPx7eygPDPYo/ZiLMYpJswL/LtYW1G8u6P8mV8cR7W9I/yJXxxHtb0j8R5mfzbAuwvxLmZ/NsC7C/xNQW4Hn7o79+vGogQWCyPxq5zR0S5b2/GrnNHRLlvb/OsAMvCeyyP1TonsN4KYO/OG0Q9wA93T82bRD3AD3dP5cXpH56Nb4/4AbhanLq2j/iBuFqcuraP7zHlR5GEsC/u8eVHkYSwL+C15k6ZFW8P4PXmTpkVbw/u9FTU6D03T+60VNToPTdP2C+i38qJa8//qqsu2DBmj9NQYvYX6PCP01Bi9hfo8I/gJZ8IORYJT8AlHwg5FglP7sGGeWQTKM/vwYZ5ZBMoz/zvDybrO+mv/S8PJus76a/oWQ7+4atq7+eZDv7hq2rv4JQGwtOt5I/BC3ViGfhf79Dz1E3CXLKv0LPUTcJcsq/jEeBDz8fqr+OR4EPPx+qvwIBGupzAru/F8nfPOmAwz8Xyd886YDDP8ty6S8gEsG/ynLpLyASwb8MJolVH4zZPwsmiVUfjNk/xxm1Eae/r7/IGbURp7+vv4YcjPxwK5+/szTaIwP4q78Vq/k0k2ewv51uuMVhLL6/n264xWEsvr+49UjMw6dev4zrtg25aq4/cIEfFrCEv79wgR8WsIS/vyTrcw/abL6/JOtzD9psvr/JmnCL+C+yP9KNe+RbCo2/fnRtXpwJo79+dG1enAmjv9momms3bMe/Xp2ijezA1j9enaKN7MDWP1GOjzi9/Kg/iovnGp/isL/8PadRNzeRP24ibWHm3aE/vPNF424jnr+uhRjbDZqtv/oqBx4hlcq/+ioHHiGVyr+qPcGQayqjv1JV4nrfVb6/wlRHNssRrj8qC1KMD8fCv7jCxV9jBbQ/2KwjGjLmxL/YrCMaMubEv0jJy0XgQLS/jF6Pw7lhw7+Ub8GQLcyeP3jHVm2nbri/ecdWbaduuL9s+4d4BwrTv237h3gHCtO/449C6BReyL/kj0LoFF7Ivw==\",\"dtype\":\"float64\",\"shape\":[125]}}},\"id\":\"2037eb24-9f60-4239-a447-bbabc3d623f3\",\"type\":\"ColumnDataSource\"},{\"attributes\":{\"plot\":null,\"text\":\"Clustering By Tweets\"},\"id\":\"19f66ddc-e9e8-4ad2-b6f9-e8d310488b68\",\"type\":\"Title\"},{\"attributes\":{\"plot\":{\"id\":\"da10e212-fb8d-40dd-b10b-db0bc9d79426\",\"subtype\":\"Figure\",\"type\":\"Plot\"}},\"id\":\"5016500c-0028-44de-89cd-047f4c41411e\",\"type\":\"PanTool\"},{\"attributes\":{\"fill_alpha\":{\"value\":0.1},\"fill_color\":{\"value\":\"#1f77b4\"},\"line_alpha\":{\"value\":0.1},\"line_color\":{\"value\":\"#1f77b4\"},\"x\":{\"field\":\"x\"},\"y\":{\"field\":\"y\"}},\"id\":\"fed248b4-4bb9-4ae8-8ac8-616c42fb21c5\",\"type\":\"Circle\"},{\"attributes\":{\"formatter\":{\"id\":\"21a97a6c-663e-4dfd-ac00-b56a311cef7a\",\"type\":\"BasicTickFormatter\"},\"plot\":{\"id\":\"da10e212-fb8d-40dd-b10b-db0bc9d79426\",\"subtype\":\"Figure\",\"type\":\"Plot\"},\"ticker\":{\"id\":\"ccba98e5-28f3-49d4-bf61-75af31ef20ce\",\"type\":\"BasicTicker\"}},\"id\":\"acf2254d-e0c0-4def-b6bc-a88d3ad8122c\",\"type\":\"LinearAxis\"},{\"attributes\":{\"active_drag\":\"auto\",\"active_scroll\":\"auto\",\"active_tap\":\"auto\",\"tools\":[{\"id\":\"5016500c-0028-44de-89cd-047f4c41411e\",\"type\":\"PanTool\"},{\"id\":\"686190c2-d269-451a-9dd5-8ffe800edfdd\",\"type\":\"WheelZoomTool\"},{\"id\":\"067a930e-882b-4b1f-9e1f-334783e54902\",\"type\":\"BoxZoomTool\"},{\"id\":\"2a87f2a0-be01-4ea4-8b83-d321269c9a97\",\"type\":\"SaveTool\"},{\"id\":\"7826271a-4a48-4f05-8e21-d8fba2f2eeee\",\"type\":\"ResetTool\"},{\"id\":\"88aaf047-322b-4fdc-b49c-b5a0084ac5ad\",\"type\":\"HelpTool\"}]},\"id\":\"a2b9679c-fcbd-4889-8567-e67f1cfee68b\",\"type\":\"Toolbar\"},{\"attributes\":{\"callback\":null},\"id\":\"3960b041-0f4d-452e-bc78-2679ac6b55b8\",\"type\":\"DataRange1d\"},{\"attributes\":{\"plot\":{\"id\":\"da10e212-fb8d-40dd-b10b-db0bc9d79426\",\"subtype\":\"Figure\",\"type\":\"Plot\"},\"ticker\":{\"id\":\"ccba98e5-28f3-49d4-bf61-75af31ef20ce\",\"type\":\"BasicTicker\"}},\"id\":\"4b201ffe-863e-4528-8567-7127519b5340\",\"type\":\"Grid\"},{\"attributes\":{},\"id\":\"67809103-e490-4dd9-8d90-c049cf133861\",\"type\":\"BasicTicker\"},{\"attributes\":{\"plot\":{\"id\":\"da10e212-fb8d-40dd-b10b-db0bc9d79426\",\"subtype\":\"Figure\",\"type\":\"Plot\"}},\"id\":\"2a87f2a0-be01-4ea4-8b83-d321269c9a97\",\"type\":\"SaveTool\"},{\"attributes\":{\"plot\":{\"id\":\"da10e212-fb8d-40dd-b10b-db0bc9d79426\",\"subtype\":\"Figure\",\"type\":\"Plot\"}},\"id\":\"88aaf047-322b-4fdc-b49c-b5a0084ac5ad\",\"type\":\"HelpTool\"},{\"attributes\":{\"callback\":null},\"id\":\"a20cab98-4d7b-44a5-86d7-104c62af42c4\",\"type\":\"DataRange1d\"}],\"root_ids\":[\"da10e212-fb8d-40dd-b10b-db0bc9d79426\"]},\"title\":\"Bokeh Application\",\"version\":\"0.12.4\"}};\n",
       "            var render_items = [{\"docid\":\"bb1eeb62-6262-4593-82d6-0f47a0950e88\",\"elementid\":\"6e2c9412-32a1-4366-9646-aecaa7e431ae\",\"modelid\":\"da10e212-fb8d-40dd-b10b-db0bc9d79426\"}];\n",
       "            \n",
       "            Bokeh.embed.embed_items(docs_json, render_items);\n",
       "          };\n",
       "          if (document.readyState != \"loading\") fn();\n",
       "          else document.addEventListener(\"DOMContentLoaded\", fn);\n",
       "        })();\n",
       "      },\n",
       "      function(Bokeh) {\n",
       "      }\n",
       "    ];\n",
       "  \n",
       "    function run_inline_js() {\n",
       "      \n",
       "      if ((window.Bokeh !== undefined) || (force === true)) {\n",
       "        for (var i = 0; i < inline_js.length; i++) {\n",
       "          inline_js[i](window.Bokeh);\n",
       "        }if (force === true) {\n",
       "          display_loaded();\n",
       "        }} else if (Date.now() < window._bokeh_timeout) {\n",
       "        setTimeout(run_inline_js, 100);\n",
       "      } else if (!window._bokeh_failed_load) {\n",
       "        console.log(\"Bokeh: BokehJS failed to load within specified timeout.\");\n",
       "        window._bokeh_failed_load = true;\n",
       "      } else if (force !== true) {\n",
       "        var cell = $(document.getElementById(\"6e2c9412-32a1-4366-9646-aecaa7e431ae\")).parents('.cell').data().cell;\n",
       "        cell.output_area.append_execute_result(NB_LOAD_WARNING)\n",
       "      }\n",
       "  \n",
       "    }\n",
       "  \n",
       "    if (window._bokeh_is_loading === 0) {\n",
       "      console.log(\"Bokeh: BokehJS loaded, going straight to plotting\");\n",
       "      run_inline_js();\n",
       "    } else {\n",
       "      load_libs(js_urls, function() {\n",
       "        console.log(\"Bokeh: BokehJS plotting callback run at\", now());\n",
       "        run_inline_js();\n",
       "      });\n",
       "    }\n",
       "  }(this));\n",
       "</script>"
      ]
     },
     "metadata": {},
     "output_type": "display_data"
    }
   ],
   "source": [
    "kmeans = cluster.KMeans(6)\n",
    "kmeans.fit(X)\n",
    "plot = figure(width=550, height=550, title='Clustering By Tweets')\n",
    "plot.scatter(data2D[:,0], data2D[:,1],color=colors[k_means.labels_].tolist())\n",
    "show(plot) "
   ]
  },
  {
   "cell_type": "markdown",
   "metadata": {},
   "source": [
    "# By Date/Time\n",
    "<br> The similar dataset didnt have tweets from very different times so we can just group the tweets by time and date. "
   ]
  },
  {
   "cell_type": "code",
   "execution_count": 29,
   "metadata": {
    "collapsed": false
   },
   "outputs": [
    {
     "name": "stderr",
     "output_type": "stream",
     "text": [
      "/anaconda/lib/python2.7/site-packages/ipykernel/__main__.py:1: SettingWithCopyWarning: \n",
      "A value is trying to be set on a copy of a slice from a DataFrame.\n",
      "Try using .loc[row_indexer,col_indexer] = value instead\n",
      "\n",
      "See the caveats in the documentation: http://pandas.pydata.org/pandas-docs/stable/indexing.html#indexing-view-versus-copy\n",
      "  if __name__ == '__main__':\n"
     ]
    },
    {
     "data": {
      "text/plain": [
       "<matplotlib.axes._subplots.AxesSubplot at 0x124fafbd0>"
      ]
     },
     "execution_count": 29,
     "metadata": {},
     "output_type": "execute_result"
    },
    {
     "data": {
      "image/png": "[encoded data removed]",
      "text/plain": [
       "<matplotlib.figure.Figure at 0x1267e3f50>"
      ]
     },
     "metadata": {},
     "output_type": "display_data"
    }
   ],
   "source": [
    "data[\"Date\"] = data[\"Date\"].astype(\"datetime64\")\n",
    "%matplotlib inline\n",
    "data.groupby(data[\"Date\"].dt.day).count().plot(kind=\"bar\")"
   ]
  },
  {
   "cell_type": "markdown",
   "metadata": {},
   "source": [
    "# Algorithms on Mini Challenge\n",
    "<br> We will have to implement a classification algo or use word-count/tf-idf features (output these out from clustering by tweets code) to classify tweets into related and non-related. Clustering should work well. We might have to try different clustering algorithms and then select the best. "
   ]
  },
  {
   "cell_type": "markdown",
   "metadata": {},
   "source": [
    "# Visualizations\n",
    "\n",
    "<br> For now, we have plotted only static graphs to see if the alogrithms were running correctly or not. To see a pattern between time, location and the content of the tweets, we will need interactive visualizations. A word cloud/or a heat map using the tf-idf features should help us to get terms for classification of tweets. One visualization to connect all three clustering results and see the trend (how other changes when you change one or what happens when you select few tweets). Have widgets to change clustering algorithm used and the number of clusters."
   ]
  },
  {
   "cell_type": "code",
   "execution_count": null,
   "metadata": {
    "collapsed": true
   },
   "outputs": [],
   "source": []
  }
 ],
 "metadata": {
  "kernelspec": {
   "display_name": "Python 2",
   "language": "python",
   "name": "python2"
  },
  "language_info": {
   "codemirror_mode": {
    "name": "ipython",
    "version": 2
   },
   "file_extension": ".py",
   "mimetype": "text/x-python",
   "name": "python",
   "nbconvert_exporter": "python",
   "pygments_lexer": "ipython2",
   "version": "2.7.13"
  }
 },
 "nbformat": 4,
 "nbformat_minor": 2
}
